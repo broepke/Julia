{
 "cells": [
  {
   "cell_type": "code",
   "execution_count": 1,
   "metadata": {},
   "outputs": [
    {
     "data": {
      "text/plain": [
       "1"
      ]
     },
     "execution_count": 1,
     "metadata": {},
     "output_type": "execute_result"
    }
   ],
   "source": [
    "1 ^ 1"
   ]
  },
  {
   "cell_type": "code",
   "execution_count": 2,
   "metadata": {},
   "outputs": [
    {
     "data": {
      "text/plain": [
       "8"
      ]
     },
     "execution_count": 2,
     "metadata": {},
     "output_type": "execute_result"
    }
   ],
   "source": [
    "2 ^ 3"
   ]
  },
  {
   "cell_type": "code",
   "execution_count": null,
   "metadata": {},
   "outputs": [
    {
     "name": "stderr",
     "output_type": "stream",
     "text": [
      "┌ Info: Precompiling Plots [91a5bcdd-55d7-5caf-9e0b-520d859cae80]\n",
      "└ @ Base loading.jl:1278\n",
      "┌ Info: Precompiling PyPlot [d330b81b-6aea-500a-939a-2ce795aea3ee]\n",
      "└ @ Base loading.jl:1278\n",
      "┌ Info: Installing matplotlib via the Conda matplotlib package...\n",
      "└ @ PyCall /Users/brianroepke/.julia/packages/PyCall/BcTLp/src/PyCall.jl:708\n",
      "┌ Info: Running `conda install -y matplotlib` in root environment\n",
      "└ @ Conda /Users/brianroepke/.julia/packages/Conda/x5ml4/src/Conda.jl:115\n"
     ]
    },
    {
     "name": "stdout",
     "output_type": "stream",
     "text": [
      "Collecting package metadata (current_repodata.json): ...working... done\n",
      "Solving environment: ...working... done\n",
      "\n",
      "## Package Plan ##\n",
      "\n",
      "  environment location: /Users/brianroepke/.julia/conda/3\n",
      "\n",
      "  added / updated specs:\n",
      "    - matplotlib\n",
      "\n",
      "\n",
      "The following packages will be downloaded:\n",
      "\n",
      "    package                    |            build\n",
      "    ---------------------------|-----------------\n",
      "    cycler-0.10.0              |           py38_0          14 KB\n",
      "    freetype-2.10.4            |       ha233b18_0         564 KB\n",
      "    jpeg-9b                    |       he5867d9_2         201 KB\n",
      "    kiwisolver-1.3.0           |   py38h23ab428_0          51 KB\n",
      "    lcms2-2.11                 |       h92f6f08_0         278 KB\n",
      "    libpng-1.6.37              |       ha441bb4_0         262 KB\n",
      "    libtiff-4.1.0              |       hcb84e12_1         405 KB\n",
      "    lz4-c-1.9.2                |       h79c402e_3         130 KB\n",
      "    matplotlib-3.3.2           |       hecd8cb5_0          24 KB\n",
      "    matplotlib-base-3.3.2      |   py38h181983e_0         5.1 MB\n",
      "    olefile-0.46               |             py_0          33 KB\n",
      "    pillow-8.0.1               |   py38h5270095_0         584 KB\n",
      "    zstd-1.4.5                 |       h41d2c2f_0         442 KB\n",
      "    ------------------------------------------------------------\n",
      "                                           Total:         8.0 MB\n",
      "\n",
      "The following NEW packages will be INSTALLED:\n",
      "\n",
      "  cycler             pkgs/main/osx-64::cycler-0.10.0-py38_0\n",
      "  freetype           pkgs/main/osx-64::freetype-2.10.4-ha233b18_0\n",
      "  jpeg               pkgs/main/osx-64::jpeg-9b-he5867d9_2\n",
      "  kiwisolver         pkgs/main/osx-64::kiwisolver-1.3.0-py38h23ab428_0\n",
      "  lcms2              pkgs/main/osx-64::lcms2-2.11-h92f6f08_0\n",
      "  libpng             pkgs/main/osx-64::libpng-1.6.37-ha441bb4_0\n",
      "  libtiff            pkgs/main/osx-64::libtiff-4.1.0-hcb84e12_1\n",
      "  lz4-c              pkgs/main/osx-64::lz4-c-1.9.2-h79c402e_3\n",
      "  matplotlib         pkgs/main/osx-64::matplotlib-3.3.2-hecd8cb5_0\n",
      "  matplotlib-base    pkgs/main/osx-64::matplotlib-base-3.3.2-py38h181983e_0\n",
      "  olefile            pkgs/main/noarch::olefile-0.46-py_0\n",
      "  pillow             pkgs/main/osx-64::pillow-8.0.1-py38h5270095_0\n",
      "  zstd               pkgs/main/osx-64::zstd-1.4.5-h41d2c2f_0\n",
      "\n",
      "\n",
      "\n",
      "Downloading and Extracting Packages\n",
      "matplotlib-3.3.2     | 24 KB     | #################################### | 100% \n",
      "zstd-1.4.5           | 442 KB    | #################################### | 100% \n",
      "lz4-c-1.9.2          | 130 KB    | #################################### | 100% \n",
      "matplotlib-base-3.3. | 5.1 MB    | #################################### | 100% \n",
      "olefile-0.46         | 33 KB     | #################################### | 100% \n",
      "libpng-1.6.37        | 262 KB    | #################################### | 100% \n",
      "freetype-2.10.4      | 564 KB    | #################################### | 100% \n",
      "jpeg-9b              | 201 KB    | #################################### | 100% \n",
      "cycler-0.10.0        | 14 KB     | #################################### | 100% \n",
      "kiwisolver-1.3.0     | 51 KB     | #################################### | 100% \n",
      "pillow-8.0.1         | 584 KB    | #################################### | 100% \n",
      "libtiff-4.1.0        | 405 KB    | #################################### | 100% \n",
      "lcms2-2.11           | 278 KB    | #################################### | 100% \n",
      "Preparing transaction: ...working... done\n",
      "Verifying transaction: ...working... done\n",
      "Executing transaction: ...working... done\n"
     ]
    }
   ],
   "source": [
    "using Plots\n",
    "pyplot() # Choose a backend\n",
    "plot(rand(4,4))"
   ]
  },
  {
   "cell_type": "code",
   "execution_count": null,
   "metadata": {},
   "outputs": [],
   "source": []
  }
 ],
 "metadata": {
  "kernelspec": {
   "display_name": "Julia 1.5.3",
   "language": "julia",
   "name": "julia-1.5"
  },
  "language_info": {
   "file_extension": ".jl",
   "mimetype": "application/julia",
   "name": "julia",
   "version": "1.5.3"
  }
 },
 "nbformat": 4,
 "nbformat_minor": 4
}
